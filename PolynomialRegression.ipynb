{
  "nbformat": 4,
  "nbformat_minor": 0,
  "metadata": {
    "colab": {
      "name": "PolynomialRegression.ipynb",
      "provenance": [],
      "authorship_tag": "ABX9TyN10Ugfx4NV+nwhMpEItzMR",
      "include_colab_link": true
    },
    "kernelspec": {
      "name": "python3",
      "display_name": "Python 3"
    }
  },
  "cells": [
    {
      "cell_type": "markdown",
      "metadata": {
        "id": "view-in-github",
        "colab_type": "text"
      },
      "source": [
        "<a href=\"https://colab.research.google.com/github/MdShahadatHossainbd/PolynomialRegression/blob/master/PolynomialRegression.ipynb\" target=\"_parent\"><img src=\"https://colab.research.google.com/assets/colab-badge.svg\" alt=\"Open In Colab\"/></a>"
      ]
    },
    {
      "cell_type": "code",
      "metadata": {
        "id": "lpeu4TCMIlRN",
        "colab_type": "code",
        "colab": {}
      },
      "source": [
        "import pandas as pd\n",
        "from sklearn.preprocessing import PolynomialFeatures\n",
        "from sklearn.linear_model import LinearRegression\n",
        "\n"
      ],
      "execution_count": 0,
      "outputs": []
    },
    {
      "cell_type": "code",
      "metadata": {
        "id": "OxlEn7wZItek",
        "colab_type": "code",
        "colab": {
          "base_uri": "https://localhost:8080/",
          "height": 141
        },
        "outputId": "2a8cede7-b598-4a93-e5de-3e5c1ac9cb40"
      },
      "source": [
        "from google.colab import drive\n",
        "drive.mount('/gdrive')\n",
        "%cd /gdrive\n"
      ],
      "execution_count": 2,
      "outputs": [
        {
          "output_type": "stream",
          "text": [
            "Go to this URL in a browser: https://accounts.google.com/o/oauth2/auth?client_id=947318989803-6bn6qk8qdgf4n4g3pfee6491hc0brc4i.apps.googleusercontent.com&redirect_uri=urn%3aietf%3awg%3aoauth%3a2.0%3aoob&response_type=code&scope=email%20https%3a%2f%2fwww.googleapis.com%2fauth%2fdocs.test%20https%3a%2f%2fwww.googleapis.com%2fauth%2fdrive%20https%3a%2f%2fwww.googleapis.com%2fauth%2fdrive.photos.readonly%20https%3a%2f%2fwww.googleapis.com%2fauth%2fpeopleapi.readonly\n",
            "\n",
            "Enter your authorization code:\n",
            "··········\n",
            "Mounted at /gdrive\n",
            "/gdrive\n"
          ],
          "name": "stdout"
        }
      ]
    },
    {
      "cell_type": "code",
      "metadata": {
        "id": "5mvVh78yI4_a",
        "colab_type": "code",
        "colab": {
          "base_uri": "https://localhost:8080/",
          "height": 660
        },
        "outputId": "3b27429b-37f5-4bd9-e8fe-ed1ac52c3b17"
      },
      "source": [
        "file = r'/gdrive/My Drive/Car_Up.csv'\n",
        "data = pd.read_csv(file)\n",
        "print(data)"
      ],
      "execution_count": 4,
      "outputs": [
        {
          "output_type": "stream",
          "text": [
            "    Volume  Weight  CO2\n",
            "0     1000     790   99\n",
            "1     1200    1160   95\n",
            "2     1000     929   95\n",
            "3      900     865   90\n",
            "4     1500    1140  105\n",
            "5     1000     929  105\n",
            "6     1400    1109   90\n",
            "7     1500    1365   92\n",
            "8     1500    1112   98\n",
            "9     1600    1150   99\n",
            "10    1100     980   99\n",
            "11    1300     990  101\n",
            "12    1000    1112   99\n",
            "13    1600    1252   94\n",
            "14    1600    1326   97\n",
            "15    1600    1330   97\n",
            "16    1600    1365   99\n",
            "17    2200    1280  104\n",
            "18    1600    1119  104\n",
            "19    2000    1328  105\n",
            "20    1600    1584   94\n",
            "21    2000    1428   99\n",
            "22    2100    1365   99\n",
            "23    1600    1415   99\n",
            "24    2000    1415   99\n",
            "25    1500    1465  102\n",
            "26    2000    1490  104\n",
            "27    2000    1725  114\n",
            "28    1600    1523  109\n",
            "29    2000    1705  114\n",
            "30    2100    1605  115\n",
            "31    2000    1746  117\n",
            "32    1600    1235  104\n",
            "33    1600    1390  108\n",
            "34    1600    1405  109\n",
            "35    2500    1395  120\n"
          ],
          "name": "stdout"
        }
      ]
    },
    {
      "cell_type": "code",
      "metadata": {
        "id": "n7cVF4BnJch-",
        "colab_type": "code",
        "colab": {}
      },
      "source": [
        "X=data.iloc[:, 0:2].values\n",
        "y=data.iloc[:, 2].values"
      ],
      "execution_count": 0,
      "outputs": []
    },
    {
      "cell_type": "code",
      "metadata": {
        "id": "VxvASdxeJtor",
        "colab_type": "code",
        "colab": {}
      },
      "source": [
        "xtrain=X[0:33]\n",
        "xtest=X[33: ]\n",
        "ytrain=y[0:33]\n",
        "ytest=y[33: ]"
      ],
      "execution_count": 0,
      "outputs": []
    },
    {
      "cell_type": "code",
      "metadata": {
        "id": "vucbuJRxKGHb",
        "colab_type": "code",
        "colab": {}
      },
      "source": [
        "poly_reg = PolynomialFeatures(degree = 2)\n",
        "X_poly = poly_reg.fit_transform(xtrain)"
      ],
      "execution_count": 0,
      "outputs": []
    },
    {
      "cell_type": "code",
      "metadata": {
        "id": "5zIyRldAKgmq",
        "colab_type": "code",
        "colab": {
          "base_uri": "https://localhost:8080/",
          "height": 52
        },
        "outputId": "c47f07ae-7682-4a14-cacb-e5631d9d491f"
      },
      "source": [
        "poly_reg.fit(X_poly, ytrain)"
      ],
      "execution_count": 8,
      "outputs": [
        {
          "output_type": "execute_result",
          "data": {
            "text/plain": [
              "PolynomialFeatures(degree=2, include_bias=True, interaction_only=False,\n",
              "                   order='C')"
            ]
          },
          "metadata": {
            "tags": []
          },
          "execution_count": 8
        }
      ]
    },
    {
      "cell_type": "code",
      "metadata": {
        "id": "_u5AsdCqKp8a",
        "colab_type": "code",
        "colab": {
          "base_uri": "https://localhost:8080/",
          "height": 34
        },
        "outputId": "c3774bc7-5cde-488c-ba62-d3c575bc5352"
      },
      "source": [
        "lin_reg = LinearRegression()\n",
        "lin_reg.fit(X_poly, ytrain)"
      ],
      "execution_count": 9,
      "outputs": [
        {
          "output_type": "execute_result",
          "data": {
            "text/plain": [
              "LinearRegression(copy_X=True, fit_intercept=True, n_jobs=None, normalize=False)"
            ]
          },
          "metadata": {
            "tags": []
          },
          "execution_count": 9
        }
      ]
    },
    {
      "cell_type": "code",
      "metadata": {
        "id": "TyyL6aYyK4lE",
        "colab_type": "code",
        "colab": {
          "base_uri": "https://localhost:8080/",
          "height": 34
        },
        "outputId": "3a182e81-25c9-48ac-fbb1-267bf27e856b"
      },
      "source": [
        "print(lin_reg.predict(poly_reg.fit_transform(xtest)))"
      ],
      "execution_count": 10,
      "outputs": [
        {
          "output_type": "stream",
          "text": [
            "[ 99.53110152  99.75555766 106.08121645]\n"
          ],
          "name": "stdout"
        }
      ]
    }
  ]
}